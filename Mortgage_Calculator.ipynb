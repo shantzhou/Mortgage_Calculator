{
 "cells": [
  {
   "cell_type": "code",
   "execution_count": 16,
   "id": "f71296d4",
   "metadata": {},
   "outputs": [
    {
     "name": "stdout",
     "output_type": "stream",
     "text": [
      "如果在偿还60期本金共计107763.58元后提前偿还100000元，将缩短还款年限为6.11年，将节省38039.10元的利息\n"
     ]
    }
   ],
   "source": [
    "import numpy as np\n",
    "\n",
    "loan_amount = 400000  # 贷款金额（180万）\n",
    "loan_period_years = 15  # 贷款年限（30年）\n",
    "annual_interest_rate = 4.0  # 年利率（4.0%）\n",
    "payments_made = 60  # 已经偿还的贷款期数\n",
    "prepayment_amount = 100000 #提前偿还的贷款金额\n",
    "\n",
    "\n",
    "def cal_(loan_amount, loan_period_years, annual_interest_rate, payments_made, prepayment_amount):\n",
    "    monthly_interest_rate = (annual_interest_rate / 100) / 12\n",
    "    total_payments = loan_period_years * 12\n",
    "\n",
    "    # 计算月供\n",
    "    monthly_payment = loan_amount * monthly_interest_rate * (1 + monthly_interest_rate) ** total_payments / ((1 + monthly_interest_rate) ** total_payments - 1)\n",
    "\n",
    "    # 计算已经还了多少本金\n",
    "    principal_paid = 0\n",
    "    remaining_balance = loan_amount\n",
    "\n",
    "\n",
    "    for _ in range(payments_made):\n",
    "        interest_payment = remaining_balance * monthly_interest_rate\n",
    "        principal_payment = monthly_payment - interest_payment\n",
    "        principal_paid += principal_payment\n",
    "        remaining_balance -= principal_payment\n",
    "\n",
    "    #已经支付利息\n",
    "    already = payments_made*monthly_payment-principal_paid\n",
    "    new_loan_amount = remaining_balance - prepayment_amount\n",
    "\n",
    "    # 计算新的支付期数\n",
    "    new_total_payments = np.log(monthly_payment / (monthly_payment - new_loan_amount * monthly_interest_rate)) / np.log(1 + monthly_interest_rate)\n",
    "    new_loan_period_years = new_total_payments / 12\n",
    "\n",
    "    # 计算原始贷款的总利息\n",
    "    original_total_interest = total_payments * monthly_payment - loan_amount\n",
    "    # 计算新贷款的总利息\n",
    "    new_total_interest = new_total_payments * monthly_payment - new_loan_amount+already\n",
    "\n",
    "    # 计算节省的利息\n",
    "    interest_saved = original_total_interest - new_total_interest\n",
    "#     print('原贷款总额', loan_amount)\n",
    "#     print('已经支付利息', already)\n",
    "#     print('已经还款本金', principal_paid)\n",
    "#     print('新的贷款总额', new_loan_amount)\n",
    "#     print('新的期数', new_total_payments)\n",
    "    print(f\"如果在偿还{payments_made}期本金共计{principal_paid:.2f}元后提前偿还{prepayment_amount}元，将缩短还款年限为{new_loan_period_years:.2f}年，将节省{interest_saved:.2f}元的利息\")\n",
    "#     print(f\"原贷款的总利息为：{original_total_interest:.2f}元\")\n",
    "#     print(f\"新贷款的总利息为：{new_total_interest:.2f}元\")\n",
    "#     print(f\"通过提前偿还部分本金和缩短还款年限，您将节省{interest_saved:.2f}元的利息\")\n",
    "\n",
    "cal_(loan_amount, loan_period_years, annual_interest_rate, payments_made, prepayment_amount)"
   ]
  },
  {
   "cell_type": "code",
   "execution_count": 14,
   "id": "20e16ca6",
   "metadata": {},
   "outputs": [
    {
     "name": "stdout",
     "output_type": "stream",
     "text": [
      "如果在偿还14期本金共计37518.22元后提前偿还600000元，将缩短还款年限为15.14年，将节省828101.02元的利息\n",
      "如果在偿还15期本金共计40265.57元后提前偿还600000元，将缩短还款年限为15.09年，将节省824444.00元的利息\n",
      "如果在偿还16期本金共计43022.08元后提前偿还600000元，将缩短还款年限为15.04年，将节省820794.02元的利息\n",
      "如果在偿还17期本金共计45787.78元后提前偿还600000元，将缩短还款年限为14.99年，将节省817151.08元的利息\n",
      "如果在偿还18期本金共计48562.69元后提前偿还600000元，将缩短还款年限为14.94年，将节省813515.18元的利息\n",
      "如果在偿还19期本金共计51346.86元后提前偿还600000元，将缩短还款年限为14.89年，将节省809886.32元的利息\n",
      "如果在偿还20期本金共计54140.31元后提前偿还600000元，将缩短还款年限为14.85年，将节省806264.49元的利息\n",
      "如果在偿还21期本金共计56943.07元后提前偿还600000元，将缩短还款年限为14.80年，将节省802649.68元的利息\n",
      "如果在偿还22期本金共计59755.17元后提前偿还600000元，将缩短还款年限为14.75年，将节省799041.90元的利息\n",
      "如果在偿还23期本金共计62576.65元后提前偿还600000元，将缩短还款年限为14.70年，将节省795441.13元的利息\n",
      "如果在偿还24期本金共计65407.53元后提前偿还600000元，将缩短还款年限为14.65年，将节省791847.38元的利息\n",
      "如果在偿还25期本金共计68247.84元后提前偿还600000元，将缩短还款年限为14.60年，将节省788260.64元的利息\n",
      "如果在偿还26期本金共计71097.63元后提前偿还600000元，将缩短还款年限为14.55年，将节省784680.91元的利息\n",
      "如果在偿还27期本金共计73956.91元后提前偿还600000元，将缩短还款年限为14.50年，将节省781108.18元的利息\n",
      "如果在偿还28期本金共计76825.73元后提前偿还600000元，将缩短还款年限为14.46年，将节省777542.45元的利息\n",
      "如果在偿还29期本金共计79704.11元后提前偿还600000元，将缩短还款年限为14.41年，将节省773983.71元的利息\n",
      "如果在偿还30期本金共计82592.08元后提前偿还600000元，将缩短还款年限为14.36年，将节省770431.97元的利息\n",
      "如果在偿还31期本金共计85489.68元后提前偿还600000元，将缩短还款年限为14.31年，将节省766887.21元的利息\n",
      "如果在偿还32期本金共计88396.93元后提前偿还600000元，将缩短还款年限为14.26年，将节省763349.43元的利息\n",
      "如果在偿还33期本金共计91313.88元后提前偿还600000元，将缩短还款年限为14.21年，将节省759818.63元的利息\n"
     ]
    }
   ],
   "source": [
    "for i in range(20):\n",
    "    k = i+14\n",
    "    \n",
    "    cal_(loan_amount, loan_period_years, annual_interest_rate, k, prepayment_amount)"
   ]
  },
  {
   "cell_type": "code",
   "execution_count": null,
   "id": "fe5027db",
   "metadata": {},
   "outputs": [],
   "source": []
  }
 ],
 "metadata": {
  "kernelspec": {
   "display_name": "Python 3",
   "language": "python",
   "name": "python3"
  },
  "language_info": {
   "codemirror_mode": {
    "name": "ipython",
    "version": 3
   },
   "file_extension": ".py",
   "mimetype": "text/x-python",
   "name": "python",
   "nbconvert_exporter": "python",
   "pygments_lexer": "ipython3",
   "version": "3.8.8"
  }
 },
 "nbformat": 4,
 "nbformat_minor": 5
}
